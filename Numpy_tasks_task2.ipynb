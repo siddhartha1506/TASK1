{
  "cells": [
    {
      "cell_type": "markdown",
      "metadata": {
        "id": "view-in-github",
        "colab_type": "text"
      },
      "source": [
        "<a href=\"https://colab.research.google.com/github/siddhartha1506/TASK1/blob/main/Numpy_tasks_task2.ipynb\" target=\"_parent\"><img src=\"https://colab.research.google.com/assets/colab-badge.svg\" alt=\"Open In Colab\"/></a>"
      ]
    },
    {
      "cell_type": "markdown",
      "metadata": {
        "id": "Cy9Dpq4a7KZi"
      },
      "source": [
        "# Numpy\n",
        "\n"
      ]
    },
    {
      "cell_type": "markdown",
      "metadata": {
        "id": "iYSarlnv7KZv"
      },
      "source": [
        "#### 1. Import the numpy package under the name `np` (★☆☆) \n",
        "(**hint**: import … as …)"
      ]
    },
    {
      "cell_type": "code",
      "execution_count": null,
      "metadata": {
        "collapsed": true,
        "id": "d-FDQape7KZx"
      },
      "outputs": [],
      "source": [
        "import numpy as np"
      ]
    },
    {
      "cell_type": "markdown",
      "metadata": {
        "id": "gidPwEaW7KZz"
      },
      "source": [
        "#### 2. Print the numpy version and the configuration (★☆☆) \n",
        "(**hint**: np.\\_\\_version\\_\\_, np.show\\_config)"
      ]
    },
    {
      "cell_type": "code",
      "execution_count": null,
      "metadata": {
        "id": "3g600yO37KZ0"
      },
      "outputs": [],
      "source": [
        "import numpy as np\n",
        "print(np.__version__)\n",
        "print(np.show_config())"
      ]
    },
    {
      "cell_type": "markdown",
      "metadata": {
        "id": "4_zZy-cT7KZ1"
      },
      "source": [
        "#### 3. Create a null vector of size 10 (★☆☆) \n",
        "(**hint**: np.zeros)"
      ]
    },
    {
      "cell_type": "code",
      "execution_count": null,
      "metadata": {
        "id": "RHba1kwc7KZ2"
      },
      "outputs": [],
      "source": [
        "import numpy as np\n",
        "x=np.zeros(10)\n",
        "print(x)"
      ]
    },
    {
      "cell_type": "markdown",
      "metadata": {
        "id": "FE8MidwK7KZ3"
      },
      "source": [
        "#### 4.  How to find the memory size of any array (★☆☆) \n",
        "(**hint**: size, itemsize)"
      ]
    },
    {
      "cell_type": "code",
      "execution_count": null,
      "metadata": {
        "id": "yPPu-__d7KZ4"
      },
      "outputs": [],
      "source": [
        "import numpy as np\n",
        "x=np.array([100,25,25])\n",
        "print(x.size)\n",
        "print(x.itemsize)\n"
      ]
    },
    {
      "cell_type": "markdown",
      "metadata": {
        "id": "AkhPNXkm7KZ9"
      },
      "source": [
        "#### 5.  How to get the documentation of the numpy add function from the command line? (★☆☆) \n",
        "(**hint**: np.info)"
      ]
    },
    {
      "cell_type": "code",
      "execution_count": null,
      "metadata": {
        "collapsed": true,
        "id": "Ef_n8ho17KZ_"
      },
      "outputs": [],
      "source": [
        "import numpy as np\n",
        "print(np.info(np.add))"
      ]
    },
    {
      "cell_type": "markdown",
      "metadata": {
        "id": "CxGWNtA77KaA"
      },
      "source": [
        "#### 6.  Create a null vector of size 10 but the fifth value which is 1 (★☆☆) \n",
        "(**hint**: array\\[4\\])"
      ]
    },
    {
      "cell_type": "code",
      "execution_count": null,
      "metadata": {
        "id": "kWnHNLSK7KaB"
      },
      "outputs": [],
      "source": [
        "import numpy as np\n",
        "x=np.zeros(10)\n",
        "x[4]=1\n",
        "print(x)"
      ]
    },
    {
      "cell_type": "markdown",
      "metadata": {
        "id": "vFr8EtH87KaC"
      },
      "source": [
        "#### 7.  Create a vector with values ranging from 10 to 49 (★☆☆) \n",
        "(**hint**: np.arange)"
      ]
    },
    {
      "cell_type": "code",
      "execution_count": null,
      "metadata": {
        "id": "k9Pstp3R7KaD"
      },
      "outputs": [],
      "source": [
        "import numpy as np\n",
        "x = np.arange(10,50)\n",
        "print(x)"
      ]
    },
    {
      "cell_type": "markdown",
      "metadata": {
        "id": "3WSS5JEP7KaE"
      },
      "source": [
        "#### 8.  Reverse a vector (first element becomes last) (★☆☆) \n",
        "(**hint**: array\\[::-1\\])"
      ]
    },
    {
      "cell_type": "code",
      "execution_count": null,
      "metadata": {
        "id": "ISywzfx07KaF"
      },
      "outputs": [],
      "source": [
        "import numpy as np\n",
        "x = np.arange(10,50)\n",
        "x = x[::-1]\n",
        "print(x)"
      ]
    },
    {
      "cell_type": "markdown",
      "metadata": {
        "id": "lIU_Gd4V7KaF"
      },
      "source": [
        "#### 9.  Create a 3x3 matrix with values ranging from 0 to 8 (★☆☆) \n",
        "(**hint**: reshape)"
      ]
    },
    {
      "cell_type": "code",
      "execution_count": null,
      "metadata": {
        "id": "qqd6gRL_7KaG"
      },
      "outputs": [],
      "source": [
        "import numpy as np\n",
        "x =  np.arange(0, 9).reshape(3,3)\n",
        "print(x)"
      ]
    },
    {
      "cell_type": "markdown",
      "metadata": {
        "id": "f7ZTAPLc7KaH"
      },
      "source": [
        "#### 10. Find indices of non-zero elements from \\[1,2,0,0,4,0\\] (★☆☆) \n",
        "(**hint**: np.nonzero)"
      ]
    },
    {
      "cell_type": "code",
      "execution_count": null,
      "metadata": {
        "id": "Wt54Xnwp7KaH"
      },
      "outputs": [],
      "source": [
        "import numpy as np\n",
        "x =  [1,2,0,0,4,0]\n",
        "print(np.nonzero(x))"
      ]
    },
    {
      "cell_type": "markdown",
      "metadata": {
        "id": "GXCoXUBd7KaI"
      },
      "source": [
        "#### 11. Create a 3x3 identity matrix (★☆☆) \n",
        "(**hint**: np.eye)"
      ]
    },
    {
      "cell_type": "code",
      "execution_count": null,
      "metadata": {
        "id": "C8z4bv3T7KaI"
      },
      "outputs": [],
      "source": [
        "import numpy as np\n",
        "x=np.eye(3)\n",
        "print(x)"
      ]
    },
    {
      "cell_type": "markdown",
      "metadata": {
        "id": "X7KLdhJ17KaJ"
      },
      "source": [
        "#### 12. Create a 3x3x3 array with random values (★☆☆) \n",
        "(**hint**: np.random.random)"
      ]
    },
    {
      "cell_type": "code",
      "execution_count": null,
      "metadata": {
        "collapsed": true,
        "id": "NeLspLlb7KaK"
      },
      "outputs": [],
      "source": [
        "import numpy as np\n",
        "x = np.random.random((3,3,3))\n",
        "print(x)"
      ]
    },
    {
      "cell_type": "markdown",
      "metadata": {
        "id": "WyOZhfMz7KaL"
      },
      "source": [
        "#### 13. Create a 10x10 array with random values and find the minimum and maximum values (★☆☆) \n",
        "(**hint**: min, max)"
      ]
    },
    {
      "cell_type": "code",
      "execution_count": null,
      "metadata": {
        "id": "4jQL1W-W7KaM"
      },
      "outputs": [],
      "source": [
        "import numpy as np\n",
        "x = np.random.random((10,10))\n",
        "print(x) \n",
        "xmin, xmax = x.min(), x.max()\n",
        "print('min: ',xmin,'max: ',xmax)"
      ]
    },
    {
      "cell_type": "markdown",
      "metadata": {
        "id": "KLAR3h7S7KaN"
      },
      "source": [
        "#### 14. Create a random vector of size 30 and find the mean value (★☆☆) \n",
        "(**hint**: mean)"
      ]
    },
    {
      "cell_type": "code",
      "execution_count": null,
      "metadata": {
        "id": "1Oj_guiu7KaN"
      },
      "outputs": [],
      "source": [
        "import numpy as np\n",
        "x = np.random.random(30)\n",
        "print(x)\n",
        "print(x.mean())"
      ]
    },
    {
      "cell_type": "markdown",
      "metadata": {
        "id": "r6v-HwJ07KaN"
      },
      "source": [
        "#### 15. Create a 2d array with 1 on the border and 0 inside (★☆☆) \n",
        "(**hint**: array\\[1:-1, 1:-1\\])"
      ]
    },
    {
      "cell_type": "code",
      "execution_count": null,
      "metadata": {
        "id": "4zUEsYuB7KaO"
      },
      "outputs": [],
      "source": [
        "import numpy as np\n",
        "x = np.ones((10,10))\n",
        "x[1:-1,1:-1] = 0\n",
        "print(x)"
      ]
    },
    {
      "cell_type": "markdown",
      "metadata": {
        "id": "rDQjAzUp7KaO"
      },
      "source": [
        "#### 16. How to add a border (filled with 0's) around an existing array? (★☆☆) \n",
        "(**hint**: np.pad)"
      ]
    },
    {
      "cell_type": "code",
      "execution_count": null,
      "metadata": {
        "id": "ggioGdrD7KaP"
      },
      "outputs": [],
      "source": [
        "import numpy as np\n",
        "x = np.ones((3,3))\n",
        "print(x)\n",
        "x = np.pad(x, pad_width=1, mode='constant', constant_values=0)\n",
        "print(x)"
      ]
    },
    {
      "cell_type": "markdown",
      "metadata": {
        "id": "nIVVEwnX7KaP"
      },
      "source": [
        "#### 17. What is the result of the following expression? (★☆☆) \n",
        "(**hint**: NaN = not a number, inf = infinity)"
      ]
    },
    {
      "cell_type": "markdown",
      "metadata": {
        "id": "w897q5co7KaP"
      },
      "source": [
        "```python\n",
        "0 * np.nan\n",
        "np.nan == np.nan\n",
        "np.inf > np.nan\n",
        "np.nan - np.nan\n",
        "0.3 == 3 * 0.1\n",
        "```"
      ]
    },
    {
      "cell_type": "code",
      "execution_count": null,
      "metadata": {
        "id": "mrBVrSVm7KaQ"
      },
      "outputs": [],
      "source": []
    },
    {
      "cell_type": "markdown",
      "metadata": {
        "id": "zY89H95v7KaQ"
      },
      "source": [
        "#### 18. Create a 5x5 matrix with values 1,2,3,4 just below the diagonal (★☆☆) \n",
        "(**hint**: np.diag)"
      ]
    },
    {
      "cell_type": "code",
      "execution_count": null,
      "metadata": {
        "id": "1QGMazhV7KaR"
      },
      "outputs": [],
      "source": [
        "import numpy as np\n",
        "x = np.diag([1, 2, 3, 4, 5])\n",
        "print(x)"
      ]
    },
    {
      "cell_type": "markdown",
      "metadata": {
        "id": "56z5pfIJ7KaR"
      },
      "source": [
        "#### 19. Create a 8x8 matrix and fill it with a checkerboard pattern (★☆☆) \n",
        "(**hint**: array\\[::2\\])"
      ]
    },
    {
      "cell_type": "code",
      "execution_count": null,
      "metadata": {
        "id": "pAyT2o5Q7KaS"
      },
      "outputs": [],
      "source": [
        "import numpy as np\n",
        "x = np.ones((3,3))\n",
        "x = np.zeros((8,8),dtype=int)\n",
        "x[1::2,::2] = 1\n",
        "x[::2,1::2] = 1\n",
        "print(x)"
      ]
    },
    {
      "cell_type": "markdown",
      "metadata": {
        "id": "AWWXAhxg7KaS"
      },
      "source": [
        "#### 20. Consider a (6,7,8) shape array, what is the index (x,y,z) of the 100th element? \n",
        "(**hint**: np.unravel_index)"
      ]
    },
    {
      "cell_type": "code",
      "execution_count": null,
      "metadata": {
        "id": "Xkc6hqyC7KaT"
      },
      "outputs": [],
      "source": [
        "import numpy as np\n",
        "print (np.unravel_index(100,(6,7,8)))"
      ]
    },
    {
      "cell_type": "markdown",
      "metadata": {
        "id": "1Oly5vjs7KaT"
      },
      "source": [
        "#### 21. Create a checkerboard 8x8 matrix using the tile function (★☆☆) \n",
        "(**hint**: np.tile)"
      ]
    },
    {
      "cell_type": "code",
      "execution_count": null,
      "metadata": {
        "id": "9IW0p8hd7KaU"
      },
      "outputs": [],
      "source": [
        "import numpy as np\n",
        "x = np.tile( np.array([[0,1],[1,0]]), (4,4))\n",
        "print(x)"
      ]
    },
    {
      "cell_type": "markdown",
      "metadata": {
        "id": "kL9RGSNf7KaU"
      },
      "source": [
        "#### 22. Normalize a 5x5 random matrix (★☆☆) \n",
        "(**hint**: (x - min) / (max - min))"
      ]
    },
    {
      "cell_type": "code",
      "execution_count": null,
      "metadata": {
        "id": "uciOcfFr7KaU"
      },
      "outputs": [],
      "source": [
        "import numpy as np\n",
        "x= np.random.random((5,5))\n",
        "xmax, xmin = x.max(), x.min()\n",
        "x = (x - xmin)/(xmax - xmin)\n",
        "print(x)"
      ]
    },
    {
      "cell_type": "markdown",
      "metadata": {
        "id": "_pXoJnPC7KaU"
      },
      "source": [
        "#### 23. Create a custom dtype that describes a color as four unsigned bytes (RGBA) (★☆☆) \n",
        "(**hint**: np.dtype)"
      ]
    },
    {
      "cell_type": "code",
      "execution_count": null,
      "metadata": {
        "collapsed": true,
        "id": "51tP9i8i7KaV"
      },
      "outputs": [],
      "source": [
        "x = np.dtype([(\"r\", np.ubyte, 1),\n",
        "                  (\"g\", np.ubyte, 1),\n",
        "                  (\"b\", np.ubyte, 1),\n",
        "                  (\"a\", np.ubyte, 1)])\n",
        "print(x)"
      ]
    },
    {
      "cell_type": "markdown",
      "metadata": {
        "id": "I68ahETj7KaV"
      },
      "source": [
        "#### 24. Multiply a 5x3 matrix by a 3x2 matrix (real matrix product) (★☆☆) \n",
        "(**hint**: np.dot | @)"
      ]
    },
    {
      "cell_type": "code",
      "execution_count": null,
      "metadata": {
        "id": "cQdJbO6a7Kah"
      },
      "outputs": [],
      "source": [
        "import numpy as np\n",
        "x = np.dot(np.ones((5,3)), np.ones((3,2)))\n",
        "print(x)"
      ]
    },
    {
      "cell_type": "markdown",
      "metadata": {
        "id": "H3zY4bIZ7Kai"
      },
      "source": [
        "#### 25. Given a 1D array, negate all elements which are between 3 and 8, in place. (★☆☆) \n",
        "(**hint**: >, <=)"
      ]
    },
    {
      "cell_type": "code",
      "execution_count": null,
      "metadata": {
        "id": "jMN2u23l7Kai"
      },
      "outputs": [],
      "source": [
        "import numpy as np\n",
        "x = np.arange(11)\n",
        "x[(3 < x) & (x <= 8)] *= -1\n",
        "print(x)"
      ]
    },
    {
      "cell_type": "markdown",
      "metadata": {
        "id": "oJgEGnEm7Kaj"
      },
      "source": [
        "#### 26. What is the output of the following script? (★☆☆) \n",
        "(**hint**: np.sum)"
      ]
    },
    {
      "cell_type": "markdown",
      "metadata": {
        "id": "7CRp8ei67Kaj"
      },
      "source": [
        "```python\n",
        "# Author: Jake VanderPlas\n",
        "\n",
        "print(sum(range(5),-1))\n",
        "from numpy import *\n",
        "print(sum(range(5),-1))\n",
        "```"
      ]
    },
    {
      "cell_type": "code",
      "execution_count": null,
      "metadata": {
        "id": "fdd14CBx7Kak"
      },
      "outputs": [],
      "source": [
        "9\n",
        "10"
      ]
    },
    {
      "cell_type": "markdown",
      "metadata": {
        "id": "7eqY2ipT7Kak"
      },
      "source": [
        "#### 27. Consider an integer vector Z, which of these expressions are legal? (★☆☆)"
      ]
    },
    {
      "cell_type": "markdown",
      "metadata": {
        "id": "0t11-HJb7Kak"
      },
      "source": [
        "```python\n",
        "Z**Z\n",
        "2 << Z >> 2\n",
        "Z <- Z\n",
        "1j*Z\n",
        "Z/1/1\n",
        "Z<Z>Z\n",
        "```"
      ]
    },
    {
      "cell_type": "code",
      "execution_count": null,
      "metadata": {
        "id": "ploB4yUu7Kal"
      },
      "outputs": [],
      "source": [
        "Z**Z\n",
        "2 << Z >> 2\n",
        "Z <- Z\n",
        "1j*Z\n",
        "Z/1/1\n",
        "Z<Z>Z"
      ]
    },
    {
      "cell_type": "markdown",
      "metadata": {
        "id": "hzrD_Ip37Kal"
      },
      "source": [
        "#### 28. What are the result of the following expressions?"
      ]
    },
    {
      "cell_type": "markdown",
      "metadata": {
        "id": "1TiLhHBr7Kal"
      },
      "source": [
        "```python\n",
        "np.array(0) / np.array(0)\n",
        "np.array(0) // np.array(0)\n",
        "np.array([np.nan]).astype(int).astype(float)\n",
        "```"
      ]
    },
    {
      "cell_type": "code",
      "execution_count": null,
      "metadata": {
        "id": "x6iGv8Jv7Kam"
      },
      "outputs": [],
      "source": [
        "np.array(0) / np.array(0)\n",
        "np.array(0) // np.array(0)"
      ]
    },
    {
      "cell_type": "markdown",
      "metadata": {
        "id": "uWYu1oyd7Kam"
      },
      "source": [
        "#### 29. How to round away from zero a float array ? (★☆☆) \n",
        "(**hint**: np.uniform, np.copysign, np.ceil, np.abs)"
      ]
    },
    {
      "cell_type": "code",
      "execution_count": null,
      "metadata": {
        "id": "0vAivGUg7Kam"
      },
      "outputs": [],
      "source": [
        "import numpy as np\n",
        "x= np.random.uniform(-10,+10,10)\n",
        "print (np.copysign(np.ceil(np.abs(x)), x))"
      ]
    },
    {
      "cell_type": "markdown",
      "metadata": {
        "id": "03KoVGzM7Kan"
      },
      "source": [
        "#### 30. How to find common values between two arrays? (★☆☆) \n",
        "(**hint**: np.intersect1d)"
      ]
    },
    {
      "cell_type": "code",
      "execution_count": null,
      "metadata": {
        "id": "nQNYr3Vh7Kan"
      },
      "outputs": [],
      "source": [
        "import numpy as np\n",
        "x1 = np.random.randint(0,1100,200)\n",
        "x2 = np.random.randint(0,1780,200)\n",
        "print(np.intersect1d(x1,x2))"
      ]
    },
    {
      "cell_type": "markdown",
      "metadata": {
        "id": "Nij14bQP7Kan"
      },
      "source": [
        "#### 31. How to ignore all numpy warnings (not recommended)? (★☆☆) \n",
        "(**hint**: np.seterr, np.errstate)"
      ]
    },
    {
      "cell_type": "code",
      "execution_count": null,
      "metadata": {
        "id": "J0u38Hv17Kan"
      },
      "outputs": [],
      "source": [
        "import numpy as np\n",
        "x1 = np.random.randint(0,1100,200)\n",
        "defaults = np.seterr(all=\"ignore\")\n",
        "x1=np.ones(1) / 0\n",
        "with np.errstate(divide='ignore'):\n",
        "    x1=np.ones(1) / 0"
      ]
    },
    {
      "cell_type": "markdown",
      "metadata": {
        "id": "JyOLzRP77Kao"
      },
      "source": [
        "#### 32. Is the following expressions true? (★☆☆) \n",
        "(**hint**: imaginary number)"
      ]
    },
    {
      "cell_type": "markdown",
      "metadata": {
        "id": "lgmGaU777Kao"
      },
      "source": [
        "```python\n",
        "np.sqrt(-1) == np.emath.sqrt(-1)\n",
        "```"
      ]
    },
    {
      "cell_type": "code",
      "execution_count": null,
      "metadata": {
        "id": "2J4hGnpG7Kao"
      },
      "outputs": [],
      "source": [
        "no"
      ]
    },
    {
      "cell_type": "markdown",
      "metadata": {
        "id": "QH7qVvLO7Kap"
      },
      "source": [
        "#### 33. How to get the dates of yesterday, today and tomorrow? (★☆☆) \n",
        "(**hint**: np.datetime64, np.timedelta64)"
      ]
    },
    {
      "cell_type": "code",
      "execution_count": null,
      "metadata": {
        "collapsed": true,
        "id": "7m0VgPQh7Kap"
      },
      "outputs": [],
      "source": [
        "import numpy as np\n",
        "yesterday=np.datetime64('today', 'D') - np.timedelta64(1, 'D')\n",
        "today=np.datetime64('today', 'D')\n",
        "tomorrow=np.datetime64('today', 'D') + np.timedelta64(1, 'D')\n",
        "print(yesterday)\n",
        "print(today)\n",
        "print(tomorrow)"
      ]
    },
    {
      "cell_type": "markdown",
      "metadata": {
        "id": "clUYglm57Kap"
      },
      "source": [
        "#### 34. How to get all the dates corresponding to the month of July 2016? (★★☆) \n",
        "(**hint**: np.arange(dtype=datetime64\\['D'\\]))"
      ]
    },
    {
      "cell_type": "code",
      "execution_count": null,
      "metadata": {
        "id": "ZScalgM_7Kaq"
      },
      "outputs": [],
      "source": [
        "import numpy as np\n",
        "x=np.arange('2016-07', '2016-08', dtype='datetime64[D]')\n",
        "print(x)"
      ]
    },
    {
      "cell_type": "markdown",
      "metadata": {
        "id": "KSJ3lP727Kaq"
      },
      "source": [
        "#### 35. How to compute ((A+B)\\*(-A/2)) in place (without copy)? (★★☆) \n",
        "(**hint**: np.add(out=), np.negative(out=), np.multiply(out=), np.divide(out=))"
      ]
    },
    {
      "cell_type": "code",
      "execution_count": null,
      "metadata": {
        "id": "D8XVaB0i7Kaq"
      },
      "outputs": [],
      "source": [
        "import numpy as np\n",
        "A = np.ones(3)*1\n",
        "B = np.ones(3)*2\n",
        "C = np.ones(3)*3\n",
        "print(np.add(A,B,out=B))\n",
        "print(np.divide(A,2,out=A))\n",
        "print(np.negative(A,out=A))\n",
        "print(np.multiply(A,B,out=A))"
      ]
    },
    {
      "cell_type": "markdown",
      "metadata": {
        "id": "n7vyqHWb7Kar"
      },
      "source": [
        "#### 36. Extract the integer part of a random array using 5 different methods (★★☆) \n",
        "(**hint**: %, np.floor, np.ceil, astype, np.trunc)"
      ]
    },
    {
      "cell_type": "code",
      "execution_count": null,
      "metadata": {
        "id": "3C9rE4Rr7Kar"
      },
      "outputs": [],
      "source": [
        "import numpy as np\n",
        "x = np.random.uniform(0,100,100)\n",
        "print(x-x%1)\n",
        "print(np.floor(x))\n",
        "print(np.ceil(x)-1)\n",
        "print(x.astype(int))\n",
        "print(np.trunc(x))"
      ]
    },
    {
      "cell_type": "markdown",
      "metadata": {
        "id": "L1jap2AW7Kar"
      },
      "source": [
        "#### 37. Create a 5x5 matrix with row values ranging from 0 to 4 (★★☆) \n",
        "(**hint**: np.arange)"
      ]
    },
    {
      "cell_type": "code",
      "execution_count": null,
      "metadata": {
        "id": "syStLyqK7Kar"
      },
      "outputs": [],
      "source": [
        "import numpy as np\n",
        "x=np.zeros((5,5))\n",
        "x+=np.arange(5)\n",
        "print(x)"
      ]
    },
    {
      "cell_type": "markdown",
      "metadata": {
        "id": "8j6vZEjY7Kas"
      },
      "source": [
        "#### 38. Consider a generator function that generates 10 integers and use it to build an array (★☆☆) \n",
        "(**hint**: np.fromiter)"
      ]
    },
    {
      "cell_type": "code",
      "execution_count": null,
      "metadata": {
        "id": "eLJTPbAt7Kas"
      },
      "outputs": [],
      "source": [
        "import numpy as np\n",
        "def generate():\n",
        "    for x in range(10):\n",
        "        yield x\n",
        "x1=np.fromiter(generate(),dtype=float,count=-1)\n",
        "print(x1)"
      ]
    },
    {
      "cell_type": "markdown",
      "metadata": {
        "id": "HcOpUQN47Kat"
      },
      "source": [
        "#### 39. Create a vector of size 10 with values ranging from 0 to 1, both excluded (★★☆) \n",
        "(**hint**: np.linspace)"
      ]
    },
    {
      "cell_type": "code",
      "execution_count": null,
      "metadata": {
        "id": "8m2Ry6-D7Kau"
      },
      "outputs": [],
      "source": [
        "import numpy as np\n",
        "x=np.linspace(0,1,11,endpoint=False)[1:]\n",
        "print(x)"
      ]
    },
    {
      "cell_type": "markdown",
      "metadata": {
        "id": "SuvJQwSK7Kau"
      },
      "source": [
        "#### 40. Create a random vector of size 10 and sort it (★★☆) \n",
        "(**hint**: sort)"
      ]
    },
    {
      "cell_type": "code",
      "execution_count": null,
      "metadata": {
        "id": "sq3feAd-7Kau"
      },
      "outputs": [],
      "source": [
        "import numpy as np\n",
        "x=np.random.random(10)\n",
        "x.sort()\n",
        "print(x)"
      ]
    },
    {
      "cell_type": "markdown",
      "metadata": {
        "id": "nJhTFIg17Kau"
      },
      "source": [
        "#### 41. How to sum a small array faster than np.sum? (★★☆) \n",
        "(**hint**: np.add.reduce)"
      ]
    },
    {
      "cell_type": "code",
      "execution_count": null,
      "metadata": {
        "id": "uDs7g9zW7Kav"
      },
      "outputs": [],
      "source": [
        "import numpy as np\n",
        "x=np.arange(10)\n",
        "print(np.add.reduce(x))"
      ]
    },
    {
      "cell_type": "markdown",
      "metadata": {
        "id": "s2qujhgS7Kav"
      },
      "source": [
        "#### 42. Consider two random array A and B, check if they are equal (★★☆) \n",
        "(**hint**: np.allclose, np.array\\_equal)"
      ]
    },
    {
      "cell_type": "code",
      "execution_count": null,
      "metadata": {
        "id": "LY96qSN47Kav"
      },
      "outputs": [],
      "source": [
        "import numpy as np\n",
        "x=np.random.randint(0,2,10)\n",
        "y=np.random.randint(0,2,10)\n",
        "equal=np.allclose(x,y)\n",
        "print(equal)\n",
        "equal=np.array_equal(x,y)\n",
        "print(equal)"
      ]
    },
    {
      "cell_type": "markdown",
      "metadata": {
        "id": "D_DUv9jT7Kaw"
      },
      "source": [
        "#### 43. Make an array immutable (read-only) (★★☆) \n",
        "(**hint**: flags.writeable)"
      ]
    },
    {
      "cell_type": "code",
      "execution_count": null,
      "metadata": {
        "id": "7pC2t83i7Kaw"
      },
      "outputs": [],
      "source": [
        "import numpy as np\n",
        "x=np.zeros(20)\n",
        "x.flags.writeable=False\n",
        "x[0]=1"
      ]
    },
    {
      "cell_type": "markdown",
      "metadata": {
        "id": "ZIAse4DD7Kaw"
      },
      "source": [
        "#### 44. Consider a random 10x2 matrix representing cartesian coordinates, convert them to polar coordinates (★★☆) \n",
        "(**hint**: np.sqrt, np.arctan2)"
      ]
    },
    {
      "cell_type": "code",
      "execution_count": null,
      "metadata": {
        "id": "yWwBrJxS7Kax"
      },
      "outputs": [],
      "source": [
        "import numpy as np\n",
        "x=np.random.random((10,2))\n",
        "y,z=x[:,0],x[:,1]\n",
        "k=np.sqrt(y**2+z**2)\n",
        "l=np.arctan2(z,y)\n",
        "print(k)\n",
        "print(l)"
      ]
    },
    {
      "cell_type": "markdown",
      "metadata": {
        "id": "WkHoJ6ih7Kax"
      },
      "source": [
        "#### 45. Create random vector of size 10 and replace the maximum value by 0 (★★☆) \n",
        "(**hint**: argmax)"
      ]
    },
    {
      "cell_type": "code",
      "execution_count": null,
      "metadata": {
        "id": "lm4j8L4r7Kax"
      },
      "outputs": [],
      "source": [
        "import numpy as np\n",
        "x=np.random.random(10)\n",
        "x[x.argmax()]=0\n",
        "print(x)"
      ]
    },
    {
      "cell_type": "markdown",
      "metadata": {
        "id": "-1xJfq2W7Kax"
      },
      "source": [
        "#### 46. Create a structured array with `x` and `y` coordinates covering the \\[0,1\\]x\\[0,1\\] area (★★☆) \n",
        "(**hint**: np.meshgrid)"
      ]
    },
    {
      "cell_type": "code",
      "execution_count": null,
      "metadata": {
        "id": "FGnNpYai7Kay"
      },
      "outputs": [],
      "source": [
        "import numpy as np\n",
        "x=np.zeros((5,5),[('x',float),('y',float)])\n",
        "x['x'], x['y'] = np.meshgrid(np.linspace(0,1,5),np.linspace(0,1,5))\n",
        "print(x)"
      ]
    },
    {
      "cell_type": "markdown",
      "metadata": {
        "id": "5AKNR8a67Kay"
      },
      "source": [
        "####  47. Given two arrays, X and Y, construct the Cauchy matrix C (Cij =1/(xi - yj)) \n",
        "(**hint**: np.subtract.outer)"
      ]
    },
    {
      "cell_type": "code",
      "execution_count": null,
      "metadata": {
        "id": "SbGGyE2g7Kaz"
      },
      "outputs": [],
      "source": [
        "import numpy as np\n",
        "x=np.arange(8)\n",
        "y=x+0.5\n",
        "z=1.0/np.subtract.outer(x,y)\n",
        "print(np.linalg.det(z))"
      ]
    },
    {
      "cell_type": "markdown",
      "metadata": {
        "id": "-0HFj3ON7Kaz"
      },
      "source": [
        "#### 48. Print the minimum and maximum representable value for each numpy scalar type (★★☆) \n",
        "(**hint**: np.iinfo, np.finfo, eps)"
      ]
    },
    {
      "cell_type": "code",
      "execution_count": null,
      "metadata": {
        "id": "sg_v6iAO7Kaz"
      },
      "outputs": [],
      "source": [
        "import numpy as np\n",
        "for dtype in [np.int8,np.int32,np.int64]:\n",
        "   print(np.iinfo(dtype).min)\n",
        "   print(np.iinfo(dtype).max)\n",
        "for dtype in [np.float32,np.float64]:\n",
        "   print(np.finfo(dtype).min)\n",
        "   print(np.finfo(dtype).max)\n",
        "   print(np.finfo(dtype).eps)"
      ]
    },
    {
      "cell_type": "markdown",
      "metadata": {
        "id": "hU-Mui7D7Kaz"
      },
      "source": [
        "#### 49. How to print all the values of an array? (★★☆) \n",
        "(**hint**: np.set\\_printoptions)"
      ]
    },
    {
      "cell_type": "code",
      "execution_count": null,
      "metadata": {
        "id": "l_RtjY3e7Ka0"
      },
      "outputs": [],
      "source": [
        "np.set_printoptions(threshold=np.nan)"
      ]
    },
    {
      "cell_type": "markdown",
      "metadata": {
        "id": "xCuPgE8h7Ka0"
      },
      "source": [
        "#### 50. How to find the closest value (to a given scalar) in a vector? (★★☆) \n",
        "(**hint**: argmin)"
      ]
    },
    {
      "cell_type": "code",
      "execution_count": null,
      "metadata": {
        "id": "NlzyHg3s7Ka0"
      },
      "outputs": [],
      "source": [
        "import numpy as np\n",
        "x=np.arange(100)\n",
        "y=np.random.uniform(0,100)\n",
        "i=(np.abs(x-y)).argmin()\n",
        "print(x[i])"
      ]
    },
    {
      "cell_type": "markdown",
      "metadata": {
        "id": "YSh2Y8ST7Ka1"
      },
      "source": [
        "#### 51. Create a structured array representing a position (x,y) and a color (r,g,b) (★★☆) \n",
        "(**hint**: dtype)"
      ]
    },
    {
      "cell_type": "code",
      "execution_count": null,
      "metadata": {
        "id": "K9z3VbG57Ka1"
      },
      "outputs": [],
      "source": [
        "import numpy as np\n",
        "x=np.zeros(10, [('position',[('x', float, 1),\n",
        "                                  ('y', float, 1)]),\n",
        "                   ('color',[('r', float, 1),\n",
        "                                  ('g', float, 1),\n",
        "                                  ('b', float, 1)])])\n",
        "print(x)"
      ]
    },
    {
      "cell_type": "markdown",
      "metadata": {
        "id": "A5FM6ZEI7Ka1"
      },
      "source": [
        "#### 52. Consider a random vector with shape (100,2) representing coordinates, find point by point distances (★★☆) \n",
        "(**hint**: np.atleast\\_2d, T, np.sqrt)"
      ]
    },
    {
      "cell_type": "code",
      "execution_count": null,
      "metadata": {
        "id": "Mwmo5d_P7Ka2"
      },
      "outputs": [],
      "source": [
        "import numpy as np\n",
        "x=np.random.random((10,2))\n",
        "y,z = np.atleast_2d(x[:,0],x[:,1])\n",
        "a=np.sqrt((y-y.T)**2 + (z-z.T)**2)\n",
        "print(a)"
      ]
    },
    {
      "cell_type": "markdown",
      "metadata": {
        "id": "GTZ514Lc7Ka2"
      },
      "source": [
        "#### 53. How to convert a float (32 bits) array into an integer (32 bits) in place? \n",
        "(**hint**: astype(copy=False))"
      ]
    },
    {
      "cell_type": "code",
      "execution_count": null,
      "metadata": {
        "id": "l2QnEcuF7Ka2"
      },
      "outputs": [],
      "source": [
        "import numpy as np\n",
        "x=np.arange(10,dtype=np.int32)\n",
        "x=x.astype(np.float32,copy=False)\n",
        "print(x)"
      ]
    },
    {
      "cell_type": "markdown",
      "metadata": {
        "id": "wEjdjtzr7Ka3"
      },
      "source": [
        "#### 54. How to read the following file? (★★☆) \n",
        "(**hint**: np.genfromtxt)"
      ]
    },
    {
      "cell_type": "markdown",
      "metadata": {
        "id": "F5tcbApu7Ka3"
      },
      "source": [
        "```\n",
        "1, 2, 3, 4, 5\n",
        "6,  ,  , 7, 8\n",
        " ,  , 9,10,11\n",
        "```"
      ]
    },
    {
      "cell_type": "code",
      "execution_count": null,
      "metadata": {
        "id": "5L99mq7P7Ka3"
      },
      "outputs": [],
      "source": [
        "x=np.genfromtxt(s,delimiter=\",\",dtype=np.int)\n",
        "print(x)"
      ]
    },
    {
      "cell_type": "markdown",
      "metadata": {
        "id": "Hw6BM4TR7Ka4"
      },
      "source": [
        "#### 55. What is the equivalent of enumerate for numpy arrays? (★★☆) \n",
        "(**hint**: np.ndenumerate, np.ndindex)"
      ]
    },
    {
      "cell_type": "code",
      "execution_count": null,
      "metadata": {
        "id": "JO26_xqV7Ka4"
      },
      "outputs": [],
      "source": [
        "import numpy as np\n",
        "x=np.arange(9).reshape(3,3)\n",
        "for i,j in np.ndenumerate(x):\n",
        "    print(i,j)\n",
        "for i in np.ndindex(x.shape):\n",
        "    print(i,x[i])"
      ]
    },
    {
      "cell_type": "markdown",
      "metadata": {
        "id": "vMuPGAPt7Ka4"
      },
      "source": [
        "#### 56. Generate a generic 2D Gaussian-like array (★★☆) \n",
        "(**hint**: np.meshgrid, np.exp)"
      ]
    },
    {
      "cell_type": "code",
      "execution_count": null,
      "metadata": {
        "id": "o2UZIFeb7Ka5"
      },
      "outputs": [],
      "source": [
        "import numpy as np\n",
        "x,y=np.meshgrid(np.linspace(-1,1,10),np.linspace(-1,1,10))\n",
        "a=np.sqrt(x*x+y*y)\n",
        "sigma,mu=1.0,0.0\n",
        "b=np.exp(-((a-mu)**2/(2.0 *sigma**2)))\n",
        "print(b)"
      ]
    },
    {
      "cell_type": "markdown",
      "metadata": {
        "id": "aoTq9KRR7Ka5"
      },
      "source": [
        "#### 57. How to randomly place p elements in a 2D array? (★★☆) \n",
        "(**hint**: np.put, np.random.choice)"
      ]
    },
    {
      "cell_type": "code",
      "execution_count": null,
      "metadata": {
        "id": "yWHyQP9g7Ka5"
      },
      "outputs": [],
      "source": [
        "import numpy as np\n",
        "a=20\n",
        "b=6\n",
        "c=np.zeros((a,a))\n",
        "np.put(c,np.random.choice(range(a*a),b,replace=False),1)\n",
        "print(c)"
      ]
    },
    {
      "cell_type": "markdown",
      "metadata": {
        "id": "g7Nrn2UH7Ka6"
      },
      "source": [
        "#### 58. Subtract the mean of each row of a matrix (★★☆) \n",
        "(**hint**: mean(axis=,keepdims=))"
      ]
    },
    {
      "cell_type": "code",
      "execution_count": null,
      "metadata": {
        "id": "LcMvNIek7Ka6"
      },
      "outputs": [],
      "source": [
        "import numpy as np\n",
        "x=np.random.rand(10,20)\n",
        "y=x-x.mean(axis=1).reshape(-1, 1)\n",
        "print(y)"
      ]
    },
    {
      "cell_type": "markdown",
      "metadata": {
        "id": "iO126HLh7Ka6"
      },
      "source": [
        "#### 59. How to sort an array by the nth column? (★★☆) \n",
        "(**hint**: argsort)"
      ]
    },
    {
      "cell_type": "code",
      "execution_count": null,
      "metadata": {
        "id": "vWtY6dIc7Ka6"
      },
      "outputs": [],
      "source": [
        "import numpy as np\n",
        "x=np.random.randint(0,100,(10,10))\n",
        "print(x)\n",
        "print(x[x[:,1].argsort()])"
      ]
    },
    {
      "cell_type": "markdown",
      "metadata": {
        "id": "viOsEzdP7Ka7"
      },
      "source": [
        "#### 60. How to tell if a given 2D array has null columns? (★★☆) \n",
        "(**hint**: any, ~)"
      ]
    },
    {
      "cell_type": "code",
      "execution_count": null,
      "metadata": {
        "id": "eWrp_3Wh7Ka7"
      },
      "outputs": [],
      "source": [
        "import numpy as np\n",
        "x=np.random.randint(0,10,(5,100))\n",
        "print((~x.any(axis=0)).any())"
      ]
    },
    {
      "cell_type": "markdown",
      "metadata": {
        "id": "9X36lVm97Ka7"
      },
      "source": [
        "#### 61. Find the nearest value from a given value in an array (★★☆) \n",
        "(**hint**: np.abs, argmin, flat)"
      ]
    },
    {
      "cell_type": "code",
      "execution_count": null,
      "metadata": {
        "id": "xuCtskDh7Ka8"
      },
      "outputs": [],
      "source": [
        "import numpy as np\n",
        "x=np.random.uniform(0,1,10)\n",
        "y=0.5\n",
        "z=x.flat[np.abs(x-y).argmin()]\n",
        "print(z)"
      ]
    },
    {
      "cell_type": "markdown",
      "metadata": {
        "id": "EYJIPa8J7Ka8"
      },
      "source": [
        "#### 62. Considering two arrays with shape (1,3) and (3,1), how to compute their sum using an iterator? (★★☆) \n",
        "(**hint**: np.nditer)"
      ]
    },
    {
      "cell_type": "code",
      "execution_count": null,
      "metadata": {
        "id": "Sogg7Frw7Ka8"
      },
      "outputs": [],
      "source": [
        "import numpy as np\n",
        "x=np.arange(3).reshape(3,1)\n",
        "y=np.arange(3).reshape(1,3)\n",
        "z=np.nditer([x,y,None])\n",
        "for i,j,k in z:k[...]=i+j\n",
        "print(z.operands[2])"
      ]
    },
    {
      "cell_type": "markdown",
      "metadata": {
        "id": "9nWcs27g7Ka8"
      },
      "source": [
        "#### 63. Create an array class that has a name attribute (★★☆) \n",
        "(**hint**: class method)"
      ]
    },
    {
      "cell_type": "code",
      "execution_count": null,
      "metadata": {
        "id": "8t8rMSOD7Ka9"
      },
      "outputs": [],
      "source": [
        "import numpy as np\n",
        "class NamedArray(np.ndarray):\n",
        "    def __new__(cls, array, name=\"no name\"):\n",
        "        obj = np.asarray(array).view(cls)\n",
        "        obj.name = name\n",
        "        return obj\n",
        "    def __array_finalize__(self, obj):\n",
        "        if obj is None: return\n",
        "        self.info = getattr(obj, 'name', \"no name\")\n",
        "\n",
        "x=NamedArray(np.arange(100), \"range_100\")\n",
        "print(x.name)\n"
      ]
    },
    {
      "cell_type": "markdown",
      "metadata": {
        "id": "Jo02EGWc7Ka9"
      },
      "source": [
        "#### 64. Consider a given vector, how to add 1 to each element indexed by a second vector (be careful with repeated indices)? (★★★) \n",
        "(**hint**: np.bincount | np.add.at)"
      ]
    },
    {
      "cell_type": "code",
      "execution_count": null,
      "metadata": {
        "id": "8lYt5C7t7KbA"
      },
      "outputs": [],
      "source": [
        "import numpy as np\n",
        "x=np.ones(10)\n",
        "y=np.random.randint(0,len(x),20)\n",
        "x+=np.bincount(y,minlength=len(x))\n",
        "print(x)"
      ]
    },
    {
      "cell_type": "markdown",
      "metadata": {
        "id": "GTrEJbeQ7KbA"
      },
      "source": [
        "#### 65. How to accumulate elements of a vector (X) to an array (F) based on an index list (I)? (★★★) \n",
        "(**hint**: np.bincount)"
      ]
    },
    {
      "cell_type": "code",
      "execution_count": null,
      "metadata": {
        "id": "9NUw3SD57KbB"
      },
      "outputs": [],
      "source": [
        "import numpy as np\n",
        "x=[1,2,3,4,5,6]\n",
        "y=[1,3,9,3,4,1]\n",
        "z=np.bincount(y,x)\n",
        "print(z)"
      ]
    },
    {
      "cell_type": "markdown",
      "metadata": {
        "id": "sW5slVEQ7KbB"
      },
      "source": [
        "#### 66. Considering a (w,h,3) image of (dtype=ubyte), compute the number of unique colors (★★★) \n",
        "(**hint**: np.unique)"
      ]
    },
    {
      "cell_type": "code",
      "execution_count": null,
      "metadata": {
        "id": "nPWMbdRe7KbC"
      },
      "outputs": [],
      "source": [
        "import numpy as np\n",
        "x,y=16,16\n",
        "z=np.random.randint(0,2,(y,x,3)).astype(np.ubyte)\n",
        "i=z[...,0]*256*256 + z[...,1]*256 +z[...,2]\n",
        "n=len(np.unique(i))\n",
        "print(np.unique(z))"
      ]
    },
    {
      "cell_type": "markdown",
      "metadata": {
        "id": "oyWIp4h87KbC"
      },
      "source": [
        "#### 67. Considering a four dimensions array, how to get sum over the last two axis at once? (★★★) \n",
        "(**hint**: sum(axis=(-2,-1)))"
      ]
    },
    {
      "cell_type": "code",
      "execution_count": null,
      "metadata": {
        "id": "dUO171Pu7KbD"
      },
      "outputs": [],
      "source": [
        "import numpy as np\n",
        "x=np.random.randint(0,10,(3,4,3,4))\n",
        "sum=x.sum(axis=(-2,-1))\n",
        "print(sum)"
      ]
    },
    {
      "cell_type": "markdown",
      "metadata": {
        "id": "MCGVj89m7KbD"
      },
      "source": [
        "#### 68. Considering a one-dimensional vector D, how to compute means of subsets of D using a vector S of same size describing subset  indices? (★★★) \n",
        "(**hint**: np.bincount)"
      ]
    },
    {
      "cell_type": "code",
      "execution_count": null,
      "metadata": {
        "id": "S3l5vnxT7KbE"
      },
      "outputs": [],
      "source": [
        "import numpy as np\n",
        "x=np.random.uniform(0,1,100)\n",
        "y=np.random.randint(0,10,100)\n",
        "x_sums=np.bincount(y,weights=x)\n",
        "x_counts=np.bincount(y)\n",
        "x_means=x_sums/x_counts\n",
        "print(x_means)\n"
      ]
    },
    {
      "cell_type": "markdown",
      "metadata": {
        "id": "rXTNobak7KbE"
      },
      "source": [
        "#### 69. How to get the diagonal of a dot product? (★★★) \n",
        "(**hint**: np.diag)"
      ]
    },
    {
      "cell_type": "code",
      "execution_count": null,
      "metadata": {
        "id": "PbXv4pf37KbG"
      },
      "outputs": [],
      "source": [
        "import numpy as np\n",
        "x=np.random.uniform(0,1,(10,10))\n",
        "y=np.random.uniform(0,1,(10,10)) \n",
        "print(np.diag(np.dot(x,y)))"
      ]
    },
    {
      "cell_type": "markdown",
      "metadata": {
        "id": "g52JATyK7KbG"
      },
      "source": [
        "#### 70. Consider the vector \\[1, 2, 3, 4, 5\\], how to build a new vector with 3 consecutive zeros interleaved between each value? (★★★) \n",
        "(**hint**: array\\[::4\\])"
      ]
    },
    {
      "cell_type": "code",
      "execution_count": null,
      "metadata": {
        "id": "sUnHWDYa7KbH"
      },
      "outputs": [],
      "source": [
        "import numpy as np\n",
        "x=np.array([1,2,3,4,5])\n",
        "nx=3\n",
        "x0=np.zeros(len(x)+(len(x)-1)*(nx))\n",
        "x0[::nx+1]=x\n",
        "print(x0)"
      ]
    },
    {
      "cell_type": "markdown",
      "metadata": {
        "id": "y0S7HgtU7KbH"
      },
      "source": [
        "#### 71. Consider an array of dimension (5,5,3), how to mulitply it by an array with dimensions (5,5)? (★★★) \n",
        "(**hint**: array\\[:, :, None\\])"
      ]
    },
    {
      "cell_type": "code",
      "execution_count": null,
      "metadata": {
        "collapsed": true,
        "id": "5PuoV5C37KbH"
      },
      "outputs": [],
      "source": [
        "import numpy as np\n",
        "x=np.ones((5,5,3))\n",
        "y=2*np.ones((5,5))\n",
        "print(x*y[:,:,None])"
      ]
    },
    {
      "cell_type": "markdown",
      "metadata": {
        "id": "jWQUCaTB7KbH"
      },
      "source": [
        "#### 72. How to swap two rows of an array? (★★★) \n",
        "(**hint**: array\\[\\[\\]\\] = array\\[\\[\\]\\])"
      ]
    },
    {
      "cell_type": "code",
      "execution_count": null,
      "metadata": {
        "id": "H8FzrjCn7KbI"
      },
      "outputs": [],
      "source": [
        "import numpy as np\n",
        "x=np.arange(25).reshape(5,5)\n",
        "x[[0,1]]=x[[1,0]]\n",
        "print(x)"
      ]
    },
    {
      "cell_type": "markdown",
      "metadata": {
        "id": "-ugvQwu37KbK"
      },
      "source": [
        "#### 73. Consider a set of 10 triplets describing 10 triangles (with shared vertices), find the set of unique line segments composing all the  triangles (★★★) \n",
        "(**hint**: repeat, np.roll, np.sort, view, np.unique)"
      ]
    },
    {
      "cell_type": "code",
      "execution_count": null,
      "metadata": {
        "id": "2Cpng97H7KbL"
      },
      "outputs": [],
      "source": [
        "import numpy as np\n",
        "x=np.random.randint(0,100,(10,3))\n",
        "y=np.roll(x.repeat(2,axis=1),-1,axis=1)\n",
        "y=y.reshape(len(y)*3,2)\n",
        "y=np.sort(y,axis=1)\n",
        "z=y.view( dtype=[('p0',y.dtype),('p1',y.dtype)])\n",
        "z = np.unique(z)\n",
        "print(z)"
      ]
    },
    {
      "cell_type": "markdown",
      "metadata": {
        "id": "3rxGvtq17KbL"
      },
      "source": [
        "#### 74. Given an array C that is a bincount, how to produce an array A such that np.bincount(A) == C? (★★★) \n",
        "(**hint**: np.repeat)"
      ]
    },
    {
      "cell_type": "code",
      "execution_count": null,
      "metadata": {
        "id": "hAhHyKeL7KbL"
      },
      "outputs": [],
      "source": [
        "import numpy as np\n",
        "x=np.bincount([1,1,2,3,4,4,6])\n",
        "y=np.repeat(np.arange(len(x)),x)\n",
        "print(y)"
      ]
    },
    {
      "cell_type": "markdown",
      "metadata": {
        "id": "jhq2lseu7KbM"
      },
      "source": [
        "#### 75. How to compute averages using a sliding window over an array? (★★★) \n",
        "(**hint**: np.cumsum)"
      ]
    },
    {
      "cell_type": "code",
      "execution_count": null,
      "metadata": {
        "id": "pa1keG227KbM"
      },
      "outputs": [],
      "source": [
        "import numpy as np\n",
        "def moving_average(a,n=3) :\n",
        "    ret = np.cumsum(a,dtype=float)\n",
        "    ret[n:] = ret[n:] - ret[:-n]\n",
        "    return ret[n-1:]/n\n",
        "x=np.arange(50)\n",
        "print(moving_average(x,n=5))"
      ]
    },
    {
      "cell_type": "markdown",
      "metadata": {
        "id": "kVRbKqBG7KbM"
      },
      "source": [
        "#### 76. Consider a one-dimensional array Z, build a two-dimensional array whose first row is (Z\\[0\\],Z\\[1\\],Z\\[2\\]) and each subsequent row is  shifted by 1 (last row should be (Z\\[-3\\],Z\\[-2\\],Z\\[-1\\]) (★★★) \n",
        "(**hint**: from numpy.lib import stride_tricks)"
      ]
    },
    {
      "cell_type": "code",
      "execution_count": null,
      "metadata": {
        "id": "GoZaXMr77KbN"
      },
      "outputs": [],
      "source": [
        "import numpy as np\n",
        "from numpy.lib import stride_tricks\n",
        "\n",
        "def rolling(a,window):\n",
        "    shape=(a.size - window+1, window)\n",
        "    strides=(a.itemsize,a.itemsize)\n",
        "    return stride_tricks.as_strided(a,shape=shape,strides=strides)\n",
        "x=rolling(np.arange(10),3)\n",
        "print(x)"
      ]
    },
    {
      "cell_type": "markdown",
      "metadata": {
        "id": "EPTWHake7KbN"
      },
      "source": [
        "#### 77. How to negate a boolean, or to change the sign of a float inplace? (★★★) \n",
        "(**hint**: np.logical_not, np.negative)"
      ]
    },
    {
      "cell_type": "code",
      "execution_count": null,
      "metadata": {
        "id": "ZvgMf-kn7KbN"
      },
      "outputs": [],
      "source": [
        "import numpy as np\n",
        "Z = np.random.randint(0,2,100)\n",
        "print(np.logical_not(Z, out=Z))\n",
        "Z = np.random.uniform(-1.0,1.0,100)\n",
        "print(np.negative(Z, out=Z))"
      ]
    },
    {
      "cell_type": "markdown",
      "metadata": {
        "id": "FeZ2kjQD7KbN"
      },
      "source": [
        "#### 78. Consider 2 sets of points P0,P1 describing lines (2d) and a point p, how to compute distance from p to each line i  (P0\\[i\\],P1\\[i\\])? (★★★)"
      ]
    },
    {
      "cell_type": "code",
      "execution_count": null,
      "metadata": {
        "id": "3awlnDaZ7KbQ"
      },
      "outputs": [],
      "source": [
        "import numpy as np\n",
        "def distance(P0,P1,p):\n",
        "    T= P1-P0\n",
        "    L=(T**2).sum(axis=1)\n",
        "    U=-((P0[:,0]-p[...,0])*T[:,0]+(P0[:,1]-p[...,1])*T[:,1])/L\n",
        "    U=U.reshape(len(U),1)\n",
        "    D=P0 + U*T - p\n",
        "    return np.sqrt((D**2).sum(axis=1))\n",
        "\n",
        "P0=np.random.uniform(-10,10,(10,2))\n",
        "P1=np.random.uniform(-10,10,(10,2))\n",
        "p=np.random.uniform(-10,10,( 1,2))\n",
        "print(distance(P0, P1, p))"
      ]
    },
    {
      "cell_type": "markdown",
      "metadata": {
        "id": "Drv8rOeE7KbQ"
      },
      "source": [
        "#### 79. Consider 2 sets of points P0,P1 describing lines (2d) and a set of points P, how to compute distance from each point j (P\\[j\\]) to each line i (P0\\[i\\],P1\\[i\\])? (★★★)"
      ]
    },
    {
      "cell_type": "code",
      "execution_count": null,
      "metadata": {
        "id": "6QgufQd-7KbR"
      },
      "outputs": [],
      "source": [
        "import numpy as np\n",
        "def distance(P0,P1,p):\n",
        "    T= P1-P0\n",
        "    L=(T**2).sum(axis=1)\n",
        "    U=-((P0[:,0]-p[...,0])*T[:,0]+(P0[:,1]-p[...,1])*T[:,1])/L\n",
        "    U=U.reshape(len(U),1)\n",
        "    D=P0 + U*T - p\n",
        "    return np.sqrt((D**2).sum(axis=1))\n",
        "\n",
        "P0=np.random.uniform(-10,10,(10,2))\n",
        "P1=np.random.uniform(-10,10,(10,2))\n",
        "p=np.random.uniform(-10, 10, (10,2))\n",
        "print(np.array([distance(P0,P1,p_i) for p_i in p]))"
      ]
    },
    {
      "cell_type": "markdown",
      "metadata": {
        "id": "uDdb2LZW7KbR"
      },
      "source": [
        "#### 80. Consider an arbitrary array, write a function that extract a subpart with a fixed shape and centered on a given element (pad with a `fill` value when necessary) (★★★) \n",
        "(**hint**: minimum, maximum)"
      ]
    },
    {
      "cell_type": "code",
      "execution_count": null,
      "metadata": {
        "id": "JmULqjvN7KbR"
      },
      "outputs": [],
      "source": []
    },
    {
      "cell_type": "markdown",
      "metadata": {
        "id": "nlIegXYY7Kbb"
      },
      "source": [
        "#### 81. Consider an array Z = \\[1,2,3,4,5,6,7,8,9,10,11,12,13,14\\], how to generate an array R = \\[\\[1,2,3,4\\], \\[2,3,4,5\\], \\[3,4,5,6\\], ..., \\[11,12,13,14\\]\\]? (★★★) \n",
        "(**hint**: stride\\_tricks.as\\_strided)"
      ]
    },
    {
      "cell_type": "code",
      "execution_count": null,
      "metadata": {
        "id": "YW7dXBzd7Kbc"
      },
      "outputs": [],
      "source": [
        "import numpy as np\n",
        "from numpy.lib import stride_tricks\n",
        "x=np.arange(1,15,dtype=np.uint32)\n",
        "y=stride_tricks.as_strided(x,(11,4),(4,4))\n",
        "print(y)"
      ]
    },
    {
      "cell_type": "markdown",
      "metadata": {
        "id": "_7mtPFJJ7Kbc"
      },
      "source": [
        "#### 82. Compute a matrix rank (★★★) \n",
        "(**hint**: np.linalg.svd) (suggestion: np.linalg.svd)"
      ]
    },
    {
      "cell_type": "code",
      "execution_count": null,
      "metadata": {
        "id": "xCa5K5XX7Kbc"
      },
      "outputs": [],
      "source": [
        "import numpy as np\n",
        "x= np.random.uniform(0,1,(10,10))\n",
        "y,z,i= np.linalg.svd(x)\n",
        "rank = np.sum(z>1e-10)\n",
        "print(rank)"
      ]
    },
    {
      "cell_type": "markdown",
      "metadata": {
        "id": "tNidygLJ7Kbc"
      },
      "source": [
        "#### 83. How to find the most frequent value in an array? \n",
        "(**hint**: np.bincount, argmax)"
      ]
    },
    {
      "cell_type": "code",
      "execution_count": null,
      "metadata": {
        "id": "5-rwRDSE7Kbd"
      },
      "outputs": [],
      "source": [
        "import numpy as np\n",
        "x=np.random.randint(0,5,100)\n",
        "print(np.bincount(x).argmax())"
      ]
    },
    {
      "cell_type": "markdown",
      "metadata": {
        "id": "CjAYVDYq7Kbd"
      },
      "source": [
        "#### 84. Extract all the contiguous 3x3 blocks from a random 10x10 matrix (★★★) \n",
        "(**hint**: stride\\_tricks.as\\_strided)"
      ]
    },
    {
      "cell_type": "code",
      "execution_count": null,
      "metadata": {
        "id": "r-fln9QM7Kbe"
      },
      "outputs": [],
      "source": [
        "import numpy as np\n",
        "from numpy.lib import stride_tricks\n",
        "x=np.random.randint(0,5,(10,10))\n",
        "n=3\n",
        "i=1+(x.shape[0]-3)\n",
        "j=1+(x.shape[1]-3)\n",
        "y=stride_tricks.as_strided(x,shape=(i,j,n,n),strides=x.strides+x.strides)\n",
        "print(y)"
      ]
    },
    {
      "cell_type": "markdown",
      "metadata": {
        "id": "u2g0-t9E7Kbe"
      },
      "source": [
        "#### 85. Create a 2D array subclass such that Z\\[i,j\\] == Z\\[j,i\\] (★★★) \n",
        "(**hint**: class method)"
      ]
    },
    {
      "cell_type": "code",
      "execution_count": null,
      "metadata": {
        "id": "f82cdd6M7Kbe"
      },
      "outputs": [],
      "source": [
        "import numpy as np\n",
        "class Symetric(np.ndarray):\n",
        "    def __setitem__(self, index, value):\n",
        "        i,j = index\n",
        "        super(Symetric, self).__setitem__((i,j), value)\n",
        "        super(Symetric, self).__setitem__((j,i), value)\n",
        "\n",
        "def symetric(Z):\n",
        "    return np.asarray(Z + Z.T - np.diag(Z.diagonal())).view(Symetric)\n",
        "\n",
        "x=symetric(np.random.randint(0,10,(5,5)))\n",
        "x[2,3]=42\n",
        "print(x)"
      ]
    },
    {
      "cell_type": "markdown",
      "metadata": {
        "id": "CZZ1BhaO7Kbg"
      },
      "source": [
        "#### 86. Consider a set of p matrices wich shape (n,n) and a set of p vectors with shape (n,1). How to compute the sum of of the p matrix products at once? (result has shape (n,1)) (★★★) \n",
        "(**hint**: np.tensordot)"
      ]
    },
    {
      "cell_type": "code",
      "execution_count": null,
      "metadata": {
        "id": "zLNo7WJB7Kbh"
      },
      "outputs": [],
      "source": [
        "import numpy as np\n",
        "i,n=10,20\n",
        "a=np.ones((i,n,n))\n",
        "b=np.ones((i,n,1))\n",
        "c=np.tensordot(a,b,axes=[[0,2],[0,1]])\n",
        "print(c)"
      ]
    },
    {
      "cell_type": "markdown",
      "metadata": {
        "id": "2vEsFo057Kbh"
      },
      "source": [
        "#### 87. Consider a 16x16 array, how to get the block-sum (block size is 4x4)? (★★★) \n",
        "(**hint**: np.add.reduceat)"
      ]
    },
    {
      "cell_type": "code",
      "execution_count": null,
      "metadata": {
        "id": "KtSuKwoH7Kbh"
      },
      "outputs": [],
      "source": [
        "import numpy as np\n",
        "x= np.ones((16,16))\n",
        "y=4\n",
        "z=np.add.reduceat(np.add.reduceat(x,np.arange(0, x.shape[0],y),axis=0),np.arange(0, x.shape[1],y),axis=1)\n",
        "print(z)"
      ]
    },
    {
      "cell_type": "markdown",
      "metadata": {
        "id": "zW6rQzlq7Kbi"
      },
      "source": [
        "#### 88. How to implement the Game of Life using numpy arrays? (★★★)"
      ]
    },
    {
      "cell_type": "code",
      "execution_count": null,
      "metadata": {
        "id": "dMe03NnO7Kbi"
      },
      "outputs": [],
      "source": [
        "import numpy as np\n",
        "def iterate(Z):\n",
        "    # Count neighbours\n",
        "    N = (Z[0:-2,0:-2] + Z[0:-2,1:-1] + Z[0:-2,2:] +\n",
        "         Z[1:-1,0:-2]                + Z[1:-1,2:] +\n",
        "         Z[2:  ,0:-2] + Z[2:  ,1:-1] + Z[2:  ,2:])\n",
        "\n",
        "    # Apply rules\n",
        "    birth = (N==3) & (Z[1:-1,1:-1]==0)\n",
        "    survive = ((N==2) | (N==3)) & (Z[1:-1,1:-1]==1)\n",
        "    Z[...] = 0\n",
        "    Z[1:-1,1:-1][birth | survive] = 1\n",
        "    return Z\n",
        "\n",
        "x=np.random.randint(0,2,(50,50))\n",
        "for i in range(100):x=iterate(x)\n",
        "print(x)"
      ]
    },
    {
      "cell_type": "markdown",
      "metadata": {
        "id": "uYVkDoND7Kbj"
      },
      "source": [
        "#### 89. How to get the n largest values of an array (★★★) \n",
        "(**hint**: np.argsort | np.argpartition)"
      ]
    },
    {
      "cell_type": "code",
      "execution_count": null,
      "metadata": {
        "id": "9TMdVZD57Kbj"
      },
      "outputs": [],
      "source": [
        "import numpy as np\n",
        "x=np.arange(100000)\n",
        "np.random.shuffle(x)\n",
        "n=5\n",
        "print(x[np.argsort(x)[-n:]])"
      ]
    },
    {
      "cell_type": "markdown",
      "metadata": {
        "id": "GnouDSXO7Kbj"
      },
      "source": [
        "#### 90. Given an arbitrary number of vectors, build the cartesian product (every combinations of every item) (★★★) \n",
        "(**hint**: np.indices)"
      ]
    },
    {
      "cell_type": "code",
      "execution_count": null,
      "metadata": {
        "scrolled": true,
        "id": "ibevvEiA7Kbj"
      },
      "outputs": [],
      "source": [
        "import numpy as np\n",
        "def cartesian(arrays):\n",
        "    arrays = [np.asarray(a) for a in arrays]\n",
        "    shape = (len(x) for x in arrays)\n",
        "\n",
        "    ix = np.indices(shape, dtype=int)\n",
        "    ix = ix.reshape(len(arrays), -1).T\n",
        "\n",
        "    for n, arr in enumerate(arrays):\n",
        "        ix[:, n] = arrays[n][ix[:, n]]\n",
        "\n",
        "    return ix\n",
        "print (cartesian(([1, 2, 3], [4, 5], [6, 7])))"
      ]
    },
    {
      "cell_type": "markdown",
      "metadata": {
        "id": "EZaQdUEK7Kbk"
      },
      "source": [
        "#### 91. How to create a record array from a regular array? (★★★) \n",
        "(**hint**: np.core.records.fromarrays)"
      ]
    },
    {
      "cell_type": "code",
      "execution_count": null,
      "metadata": {
        "id": "ySx2vsGv7Kbk"
      },
      "outputs": [],
      "source": [
        "import numpy as np\n",
        "x=np.array([(\"Hello\", 2.5, 3),\n",
        "              (\"World\", 3.6, 2)])\n",
        "y=np.core.records.fromarrays(x.T,names='col1, col2, col3',formats = 'S8, f8, i8')\n",
        "print(y)"
      ]
    },
    {
      "cell_type": "markdown",
      "metadata": {
        "id": "67mj4-ke7Kbk"
      },
      "source": [
        "#### 92. Consider a large vector Z, compute Z to the power of 3 using 3 different methods (★★★) \n",
        "(**hint**: np.power, \\*, np.einsum)"
      ]
    },
    {
      "cell_type": "code",
      "execution_count": null,
      "metadata": {
        "id": "dGYM0wn37Kbl"
      },
      "outputs": [],
      "source": [
        "import numpy as np\n",
        "x = np.random.rand(5e7)\n",
        "print(np.power(x,3))\n",
        "print(x*x*x)\n",
        "print(np.einsum('i,i,i->i',x,x,x))"
      ]
    },
    {
      "cell_type": "markdown",
      "metadata": {
        "id": "JdEwdov47Kbl"
      },
      "source": [
        "#### 93. Consider two arrays A and B of shape (8,3) and (2,2). How to find rows of A that contain elements of each row of B regardless of the order of the elements in B? (★★★) \n",
        "(**hint**: np.where)"
      ]
    },
    {
      "cell_type": "code",
      "execution_count": null,
      "metadata": {
        "id": "2qWnM8nx7Kbl"
      },
      "outputs": [],
      "source": [
        "import numpy as np\n",
        "x=np.random.randint(0,5,(8,3))\n",
        "y=np.random.randint(0,5,(2,2))\n",
        "z=(x[...,np.newaxis,np.newaxis]==y)\n",
        "a= np.where(z.any((3,1)).all(1))[0]\n",
        "print(a)"
      ]
    },
    {
      "cell_type": "markdown",
      "metadata": {
        "id": "clEt2Jtk7Kbl"
      },
      "source": [
        "#### 94. Considering a 10x3 matrix, extract rows with unequal values (e.g. \\[2,2,3\\]) (★★★)"
      ]
    },
    {
      "cell_type": "code",
      "execution_count": null,
      "metadata": {
        "id": "sJF5cCTb7Kbm"
      },
      "outputs": [],
      "source": [
        "import numpy as np\n",
        "x=np.random.randint(0,10,(10,3))\n",
        "y=np.all(x[:,1:]==x[:,:-1],axis=1)\n",
        "z=x[~y]\n",
        "print(z)"
      ]
    },
    {
      "cell_type": "markdown",
      "metadata": {
        "id": "0QXf71JT7Kbm"
      },
      "source": [
        "#### 95. Convert a vector of ints into a matrix binary representation (★★★) \n",
        "(**hint**: np.unpackbits)"
      ]
    },
    {
      "cell_type": "code",
      "execution_count": null,
      "metadata": {
        "id": "5X5K40N47Kbn"
      },
      "outputs": [],
      "source": []
    },
    {
      "cell_type": "markdown",
      "metadata": {
        "id": "A-RBAMJ-7Kbn"
      },
      "source": [
        "#### 96. Given a two dimensional array, how to extract unique rows? (★★★) \n",
        "(**hint**: np.ascontiguousarray)"
      ]
    },
    {
      "cell_type": "code",
      "execution_count": null,
      "metadata": {
        "id": "xwjNYM7f7Kbn"
      },
      "outputs": [],
      "source": []
    },
    {
      "cell_type": "markdown",
      "metadata": {
        "id": "obB0RdHD7Kbn"
      },
      "source": [
        "#### 97. Considering 2 vectors A & B, write the einsum equivalent of inner, outer, sum, and mul function (★★★) \n",
        "(**hint**: np.einsum)"
      ]
    },
    {
      "cell_type": "code",
      "execution_count": null,
      "metadata": {
        "id": "_6KHavKn7Kbo"
      },
      "outputs": [],
      "source": []
    },
    {
      "cell_type": "markdown",
      "metadata": {
        "id": "oGHcWVxZ7Kbo"
      },
      "source": [
        "#### 98. Considering a path described by two vectors (X,Y), how to sample it using equidistant samples (★★★)? \n",
        "(**hint**: np.cumsum, np.interp)"
      ]
    },
    {
      "cell_type": "code",
      "execution_count": null,
      "metadata": {
        "collapsed": true,
        "id": "zgB2dFi87Kbo"
      },
      "outputs": [],
      "source": []
    },
    {
      "cell_type": "markdown",
      "metadata": {
        "id": "PgCWyZM-7Kbo"
      },
      "source": [
        "#### 99. Given an integer n and a 2D array X, select from X the rows which can be interpreted as draws from a multinomial distribution with n degrees, i.e., the rows which only contain integers and which sum to n. (★★★) \n",
        "(**hint**: np.logical\\_and.reduce, np.mod)"
      ]
    },
    {
      "cell_type": "code",
      "execution_count": null,
      "metadata": {
        "id": "4t4rPGaP7Kbp"
      },
      "outputs": [],
      "source": []
    },
    {
      "cell_type": "markdown",
      "metadata": {
        "id": "9iW1T-UF7Kbp"
      },
      "source": [
        "#### 100. Compute bootstrapped 95% confidence intervals for the mean of a 1D array X (i.e., resample the elements of an array with replacement N times, compute the mean of each sample, and then compute percentiles over the means). (★★★) \n",
        "(**hint**: np.percentile)"
      ]
    },
    {
      "cell_type": "code",
      "execution_count": null,
      "metadata": {
        "id": "XR8z5ApZ7Kbq"
      },
      "outputs": [],
      "source": []
    }
  ],
  "metadata": {
    "kernelspec": {
      "display_name": "Python 3",
      "language": "python",
      "name": "python3"
    },
    "language_info": {
      "codemirror_mode": {
        "name": "ipython",
        "version": 3
      },
      "file_extension": ".py",
      "mimetype": "text/x-python",
      "name": "python",
      "nbconvert_exporter": "python",
      "pygments_lexer": "ipython3",
      "version": "3.8.3"
    },
    "colab": {
      "provenance": [],
      "collapsed_sections": [
        "A-RBAMJ-7Kbn",
        "obB0RdHD7Kbn",
        "oGHcWVxZ7Kbo",
        "PgCWyZM-7Kbo",
        "9iW1T-UF7Kbp"
      ],
      "include_colab_link": true
    }
  },
  "nbformat": 4,
  "nbformat_minor": 0
}